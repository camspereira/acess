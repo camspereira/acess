{
 "cells": [
  {
   "cell_type": "code",
   "execution_count": 0,
   "metadata": {
    "application/vnd.databricks.v1+cell": {
     "cellMetadata": {
      "byteLimit": 2048000,
      "rowLimit": 10000
     },
     "inputWidgets": {},
     "nuid": "6482be4c-f067-47c9-b0ac-35c938b94601",
     "showTitle": true,
     "tableResultSettingsMap": {},
     "title": "Carregar o arquivo CSV com as opções"
    }
   },
   "outputs": [
    {
     "output_type": "stream",
     "name": "stdout",
     "output_type": "stream",
     "text": [
      "+---------------+----------+--------+---------------+\n|            _c0|       _c1|     _c2|            _c3|\n+---------------+----------+--------+---------------+\n| 161.103.53.215|2025-02-06|09:31:36|        bbc.com|\n| 215.213.219.84|2025-02-01|21:20:21|    twitter.com|\n|  117.152.133.2|2025-02-18|11:15:41|     github.com|\n|   1.127.233.58|2025-02-17|07:22:46|        cnn.com|\n|181.125.127.119|2025-02-16|21:54:12|     google.com|\n|   194.16.65.15|2025-02-08|15:33:01|  wikipedia.org|\n| 97.170.188.148|2025-02-09|09:25:16|  wikipedia.org|\n| 239.96.185.164|2025-01-29|00:43:01|     amazon.com|\n|  131.101.10.63|2025-02-17|15:15:49|     amazon.com|\n|    76.45.153.8|2025-02-04|05:09:29|       bing.com|\n| 166.242.38.189|2025-02-03|06:33:33|   linkedin.com|\n| 220.181.19.201|2025-02-17|21:34:44|     github.com|\n|   78.26.170.97|2025-01-31|21:07:52|   facebook.com|\n|  16.248.12.159|2025-01-31|08:52:13|        bbc.com|\n| 77.171.111.126|2025-02-06|03:59:06|        cnn.com|\n| 85.232.169.165|2025-01-25|09:30:10|        bbc.com|\n| 176.11.214.120|2025-02-10|01:47:03|    nytimes.com|\n|  122.44.253.24|2025-02-05|17:16:48|   linkedin.com|\n|  63.72.157.151|2025-01-27|03:19:44|  wikipedia.org|\n|  27.30.206.154|2025-01-25|15:08:56|google.com/maps|\n+---------------+----------+--------+---------------+\nonly showing top 20 rows\n\n"
     ]
    }
   ],
   "source": [
    "\n",
    "file_location = \"/FileStore/tables/access_logs.txt\"\n",
    "file_type = \"csv\" \n",
    "\n",
    "infer_schema = \"false\" \n",
    "first_row_is_header = \"false\"\n",
    "delimiter = \" \"  \n",
    "\n",
    "df = spark.read.format(file_type) \\\n",
    "    .option(\"inferSchema\", infer_schema) \\\n",
    "    .option(\"header\", first_row_is_header) \\\n",
    "    .option(\"sep\", delimiter) \\\n",
    "    .load(file_location)\n",
    "\n",
    "df.show()\n"
   ]
  },
  {
   "cell_type": "code",
   "execution_count": 0,
   "metadata": {
    "application/vnd.databricks.v1+cell": {
     "cellMetadata": {
      "byteLimit": 2048000,
      "rowLimit": 10000
     },
     "inputWidgets": {},
     "nuid": "d335939d-5b79-46ac-b994-e7f5192a4f6f",
     "showTitle": true,
     "tableResultSettingsMap": {},
     "title": "biblioteca de dados utilizada"
    }
   },
   "outputs": [
    {
     "output_type": "display_data",
     "data": {
      "text/html": [
       "<div>\n",
       "<style scoped>\n",
       "    .dataframe tbody tr th:only-of-type {\n",
       "        vertical-align: middle;\n",
       "    }\n",
       "\n",
       "    .dataframe tbody tr th {\n",
       "        vertical-align: top;\n",
       "    }\n",
       "\n",
       "    .dataframe thead th {\n",
       "        text-align: right;\n",
       "    }\n",
       "</style>\n",
       "<table border=\"1\" class=\"dataframe\">\n",
       "  <thead>\n",
       "    <tr style=\"text-align: right;\">\n",
       "      <th></th>\n",
       "      <th>IP</th>\n",
       "      <th>Data</th>\n",
       "      <th>Hora</th>\n",
       "      <th>URL</th>\n",
       "    </tr>\n",
       "  </thead>\n",
       "  <tbody>\n",
       "    <tr>\n",
       "      <th>0</th>\n",
       "      <td>161.103.53.215</td>\n",
       "      <td>2025-02-06</td>\n",
       "      <td>09:31:36</td>\n",
       "      <td>bbc.com</td>\n",
       "    </tr>\n",
       "    <tr>\n",
       "      <th>1</th>\n",
       "      <td>215.213.219.84</td>\n",
       "      <td>2025-02-01</td>\n",
       "      <td>21:20:21</td>\n",
       "      <td>twitter.com</td>\n",
       "    </tr>\n",
       "    <tr>\n",
       "      <th>2</th>\n",
       "      <td>117.152.133.2</td>\n",
       "      <td>2025-02-18</td>\n",
       "      <td>11:15:41</td>\n",
       "      <td>github.com</td>\n",
       "    </tr>\n",
       "    <tr>\n",
       "      <th>3</th>\n",
       "      <td>1.127.233.58</td>\n",
       "      <td>2025-02-17</td>\n",
       "      <td>07:22:46</td>\n",
       "      <td>cnn.com</td>\n",
       "    </tr>\n",
       "    <tr>\n",
       "      <th>4</th>\n",
       "      <td>181.125.127.119</td>\n",
       "      <td>2025-02-16</td>\n",
       "      <td>21:54:12</td>\n",
       "      <td>google.com</td>\n",
       "    </tr>\n",
       "  </tbody>\n",
       "</table>\n",
       "</div>"
      ]
     },
     "metadata": {
      "application/vnd.databricks.v1+output": {
       "addedWidgets": {},
       "arguments": {},
       "data": "<div>\n<style scoped>\n    .dataframe tbody tr th:only-of-type {\n        vertical-align: middle;\n    }\n\n    .dataframe tbody tr th {\n        vertical-align: top;\n    }\n\n    .dataframe thead th {\n        text-align: right;\n    }\n</style>\n<table border=\"1\" class=\"dataframe\">\n  <thead>\n    <tr style=\"text-align: right;\">\n      <th></th>\n      <th>IP</th>\n      <th>Data</th>\n      <th>Hora</th>\n      <th>URL</th>\n    </tr>\n  </thead>\n  <tbody>\n    <tr>\n      <th>0</th>\n      <td>161.103.53.215</td>\n      <td>2025-02-06</td>\n      <td>09:31:36</td>\n      <td>bbc.com</td>\n    </tr>\n    <tr>\n      <th>1</th>\n      <td>215.213.219.84</td>\n      <td>2025-02-01</td>\n      <td>21:20:21</td>\n      <td>twitter.com</td>\n    </tr>\n    <tr>\n      <th>2</th>\n      <td>117.152.133.2</td>\n      <td>2025-02-18</td>\n      <td>11:15:41</td>\n      <td>github.com</td>\n    </tr>\n    <tr>\n      <th>3</th>\n      <td>1.127.233.58</td>\n      <td>2025-02-17</td>\n      <td>07:22:46</td>\n      <td>cnn.com</td>\n    </tr>\n    <tr>\n      <th>4</th>\n      <td>181.125.127.119</td>\n      <td>2025-02-16</td>\n      <td>21:54:12</td>\n      <td>google.com</td>\n    </tr>\n  </tbody>\n</table>\n</div>",
       "datasetInfos": [],
       "metadata": {},
       "removedWidgets": [],
       "textData": null,
       "type": "htmlSandbox"
      }
     },
     "output_type": "display_data"
    }
   ],
   "source": [
    "# converter para pandas\n",
    "import pandas as pd\n",
    "\n",
    "df_pandas = df.toPandas()\n",
    "\n",
    "# nomear as colunas \n",
    "df_pandas.columns = [\"IP\", \"Data\", \"Hora\", \"URL\"]\n",
    "\n",
    "df_pandas.head()"
   ]
  },
  {
   "cell_type": "code",
   "execution_count": 0,
   "metadata": {
    "application/vnd.databricks.v1+cell": {
     "cellMetadata": {
      "byteLimit": 2048000,
      "rowLimit": 10000
     },
     "inputWidgets": {},
     "nuid": "45901b2f-166c-473a-869c-50b4fa030e2c",
     "showTitle": true,
     "tableResultSettingsMap": {},
     "title": "conta os acessos do google"
    }
   },
   "outputs": [
    {
     "output_type": "stream",
     "name": "stdout",
     "output_type": "stream",
     "text": [
      "Acessos feitos no Google: 2484\n"
     ]
    }
   ],
   "source": [
    "acessos_google = df_pandas[df_pandas[\"URL\"].str.contains(\"google\", case=False, na=False)]\n",
    "print(f\"Acessos feitos no Google: {acessos_google.shape[0]}\")"
   ]
  },
  {
   "cell_type": "code",
   "execution_count": 0,
   "metadata": {
    "application/vnd.databricks.v1+cell": {
     "cellMetadata": {
      "byteLimit": 2048000,
      "rowLimit": 10000
     },
     "inputWidgets": {},
     "nuid": "554932b0-60ae-4b8c-9207-b6e42b697a0c",
     "showTitle": true,
     "tableResultSettingsMap": {},
     "title": "classifica as 5 páginas mais visitadas"
    }
   },
   "outputs": [
    {
     "output_type": "stream",
     "name": "stdout",
     "output_type": "stream",
     "text": [
      "As 5 páginas mais visitadas:\nstackoverflow.com    650\ngoogle.com/mail      649\ncnn.com              645\namazon.com           644\nfacebook.com         640\nName: URL, dtype: int64\n"
     ]
    }
   ],
   "source": [
    "top_5_urls = df_pandas[\"URL\"].value_counts().head(5)\n",
    "print(f\"As 5 páginas mais visitadas:\\n{top_5_urls}\")"
   ]
  },
  {
   "cell_type": "code",
   "execution_count": 0,
   "metadata": {
    "application/vnd.databricks.v1+cell": {
     "cellMetadata": {
      "byteLimit": 2048000,
      "rowLimit": 10000
     },
     "inputWidgets": {},
     "nuid": "2d466cfa-a25c-4e61-ba4f-0e15cb29cc04",
     "showTitle": true,
     "tableResultSettingsMap": {},
     "title": "conta os acessos por data"
    }
   },
   "outputs": [
    {
     "output_type": "stream",
     "name": "stdout",
     "output_type": "stream",
     "text": [
      "Contagem de acessos por data:\nData\n2025-01-19     16\n2025-01-20    338\n2025-01-21    382\n2025-01-22    366\n2025-01-23    325\n2025-01-24    333\n2025-01-25    344\n2025-01-26    314\n2025-01-27    355\n2025-01-28    324\n2025-01-29    333\n2025-01-30    353\n2025-01-31    344\n2025-02-01    326\n2025-02-02    344\n2025-02-03    327\n2025-02-04    349\n2025-02-05    345\n2025-02-06    322\n2025-02-07    322\n2025-02-08    336\n2025-02-09    318\n2025-02-10    347\n2025-02-11    325\n2025-02-12    330\n2025-02-13    316\n2025-02-14    327\n2025-02-15    333\n2025-02-16    316\n2025-02-17    304\n2025-02-18    286\ndtype: int64\n"
     ]
    }
   ],
   "source": [
    "accesses_by_date = df_pandas.groupby(\"Data\").size()\n",
    "print(f\"Contagem de acessos por data:\\n{accesses_by_date}\")"
   ]
  },
  {
   "cell_type": "code",
   "execution_count": 0,
   "metadata": {
    "application/vnd.databricks.v1+cell": {
     "cellMetadata": {
      "byteLimit": 2048000,
      "rowLimit": 10000
     },
     "inputWidgets": {},
     "nuid": "574ad14b-d618-43cc-9d9c-f6da96270060",
     "showTitle": true,
     "tableResultSettingsMap": {},
     "title": "conta os acessos por IPs Externo/Interno"
    }
   },
   "outputs": [
    {
     "output_type": "stream",
     "name": "stdout",
     "output_type": "stream",
     "text": [
      "    ip_type  count\n0  external   9968\n1  internal     32\n"
     ]
    }
   ],
   "source": [
    "# Função para classificar o IP como 'internal' ou 'external'\n",
    "def classify_ip(ip):\n",
    "    if ip.startswith((\"10.\", \"192.168.\")):\n",
    "        return \"internal\"\n",
    "    elif ip.startswith(\"172.\"):\n",
    "        # Extrair o segundo octeto do IP\n",
    "        second_octet = int(ip.split('.')[1])\n",
    "        if 16 <= second_octet <= 31:  # Verifica se está na faixa 172.16.0.0 - 172.31.255.255\n",
    "            return \"internal\"\n",
    "    return \"external\"\n",
    "\n",
    "# Aplicar a função para criar uma nova coluna 'ip_type'\n",
    "df_pandas['ip_type'] = df_pandas['IP'].apply(classify_ip)\n",
    "\n",
    "# Contar os acessos por tipo de IP\n",
    "accesses_by_ip_type = df_pandas['ip_type'].value_counts().reset_index()\n",
    "\n",
    "# Renomear as colunas para 'ip_type' e 'count'\n",
    "accesses_by_ip_type.columns = ['ip_type', 'count']\n",
    "\n",
    "# Exibir o resultado\n",
    "print(accesses_by_ip_type)"
   ]
  },
  {
   "cell_type": "code",
   "execution_count": 0,
   "metadata": {
    "application/vnd.databricks.v1+cell": {
     "cellMetadata": {
      "byteLimit": 2048000,
      "rowLimit": 10000
     },
     "inputWidgets": {},
     "nuid": "0f39f683-8699-49b2-8a3c-056ce9961316",
     "showTitle": true,
     "tableResultSettingsMap": {},
     "title": "Filtrar os acessos ao google.com"
    }
   },
   "outputs": [
    {
     "output_type": "stream",
     "name": "stdout",
     "output_type": "stream",
     "text": [
      "Quantidade de acessos a google.com: 601\n"
     ]
    }
   ],
   "source": [
    "google_access_count = df.filter(df[\"_c3\"] == \"google.com\").count()\n",
    "\n",
    "print(f\"Quantidade de acessos ao google.com: {google_access_count}\")\n"
   ]
  },
  {
   "cell_type": "code",
   "execution_count": 0,
   "metadata": {
    "application/vnd.databricks.v1+cell": {
     "cellMetadata": {
      "byteLimit": 2048000,
      "rowLimit": 10000
     },
     "inputWidgets": {},
     "nuid": "fdc898d4-7c80-4c05-83f4-3c001582bb5c",
     "showTitle": true,
     "tableResultSettingsMap": {},
     "title": "5 páginas mais visitadas"
    }
   },
   "outputs": [
    {
     "output_type": "stream",
     "name": "stdout",
     "output_type": "stream",
     "text": [
      "+-----------------+-----+\n|              _c3|count|\n+-----------------+-----+\n|stackoverflow.com|  650|\n|  google.com/mail|  649|\n|          cnn.com|  645|\n|       amazon.com|  644|\n|     facebook.com|  640|\n+-----------------+-----+\n\n"
     ]
    }
   ],
   "source": [
    "page_counts = df.groupBy(\"_c3\").count()\n",
    "\n",
    "top_5_pages = page_counts.orderBy(\"count\", ascending=False).limit(5)\n",
    "\n",
    "top_5_pages.show()\n"
   ]
  },
  {
   "cell_type": "code",
   "execution_count": 0,
   "metadata": {
    "application/vnd.databricks.v1+cell": {
     "cellMetadata": {
      "byteLimit": 2048000,
      "rowLimit": 10000
     },
     "inputWidgets": {},
     "nuid": "70fbe018-7930-45de-b733-5f4a60695f45",
     "showTitle": true,
     "tableResultSettingsMap": {},
     "title": "Contar o número de acessos por data"
    }
   },
   "outputs": [
    {
     "output_type": "stream",
     "name": "stdout",
     "output_type": "stream",
     "text": [
      "+----------+-----+\n|_c1       |count|\n+----------+-----+\n|2025-01-19|16   |\n|2025-01-20|338  |\n|2025-01-21|382  |\n|2025-01-22|366  |\n|2025-01-23|325  |\n|2025-01-24|333  |\n|2025-01-25|344  |\n|2025-01-26|314  |\n|2025-01-27|355  |\n|2025-01-28|324  |\n|2025-01-29|333  |\n|2025-01-30|353  |\n|2025-01-31|344  |\n|2025-02-01|326  |\n|2025-02-02|344  |\n|2025-02-03|327  |\n|2025-02-04|349  |\n|2025-02-05|345  |\n|2025-02-06|322  |\n|2025-02-07|322  |\n|2025-02-08|336  |\n|2025-02-09|318  |\n|2025-02-10|347  |\n|2025-02-11|325  |\n|2025-02-12|330  |\n|2025-02-13|316  |\n|2025-02-14|327  |\n|2025-02-15|333  |\n|2025-02-16|316  |\n|2025-02-17|304  |\n|2025-02-18|286  |\n+----------+-----+\n\n"
     ]
    }
   ],
   "source": [
    "accesses_by_date = df.groupBy(\"_c1\").count()\n",
    "\n",
    "accesses_by_date.orderBy(\"_c1\").show(100, False)"
   ]
  },
  {
   "cell_type": "code",
   "execution_count": 0,
   "metadata": {
    "application/vnd.databricks.v1+cell": {
     "cellMetadata": {
      "byteLimit": 2048000,
      "rowLimit": 10000
     },
     "inputWidgets": {},
     "nuid": "7e048097-7cc4-49d2-b456-c16dbdf74f51",
     "showTitle": true,
     "tableResultSettingsMap": {},
     "title": "Contar os acessos por tipo de IP (interno ou externo)"
    }
   },
   "outputs": [
    {
     "output_type": "stream",
     "name": "stdout",
     "output_type": "stream",
     "text": [
      "+--------+-----+\n| ip_type|count|\n+--------+-----+\n|internal|   32|\n|external| 9968|\n+--------+-----+\n\n"
     ]
    }
   ],
   "source": [
    "from pyspark.sql.functions import when, col\n",
    "\n",
    "df_with_ip_type = df.withColumn(\n",
    "    \"ip_type\", \n",
    "    when(col(\"_c0\").like(\"10.%\"), \"internal\")  \n",
    "    .when(col(\"_c0\").like(\"192.168.%\"), \"internal\")  \n",
    "    .when(col(\"_c0\").like(\"172.16.%\"), \"internal\")  \n",
    "    .when(col(\"_c0\").like(\"172.17.%\"), \"internal\")  \n",
    "    .when(col(\"_c0\").like(\"172.18.%\"), \"internal\")  \n",
    "    .when(col(\"_c0\").like(\"172.19.%\"), \"internal\")  \n",
    "    .when(col(\"_c0\").like(\"172.20.%\"), \"internal\")  \n",
    "    .when(col(\"_c0\").like(\"172.21.%\"), \"internal\")  \n",
    "    .when(col(\"_c0\").like(\"172.22.%\"), \"internal\")  \n",
    "    .when(col(\"_c0\").like(\"172.23.%\"), \"internal\")  \n",
    "    .when(col(\"_c0\").like(\"172.24.%\"), \"internal\")  \n",
    "    .when(col(\"_c0\").like(\"172.25.%\"), \"internal\")  \n",
    "    .when(col(\"_c0\").like(\"172.26.%\"), \"internal\")  \n",
    "    .when(col(\"_c0\").like(\"172.27.%\"), \"internal\")  \n",
    "    .when(col(\"_c0\").like(\"172.28.%\"), \"internal\")  \n",
    "    .when(col(\"_c0\").like(\"172.29.%\"), \"internal\")  \n",
    "    .when(col(\"_c0\").like(\"172.30.%\"), \"internal\")  \n",
    "    .when(col(\"_c0\").like(\"172.31.%\"), \"internal\")  \n",
    "    .otherwise(\"external\") \n",
    ")\n",
    "\n",
    "accesses_by_ip_type = df_with_ip_type.groupBy(\"ip_type\").count()\n",
    "\n",
    "accesses_by_ip_type.show()"
   ]
  }
 ],
 "metadata": {
  "application/vnd.databricks.v1+notebook": {
   "computePreferences": null,
   "dashboards": [],
   "environmentMetadata": null,
   "language": "python",
   "notebookMetadata": {
    "mostRecentlyExecutedCommandWithImplicitDF": {
     "commandId": 1109805214992969,
     "dataframes": [
      "_sqldf"
     ]
    },
    "pythonIndentUnit": 4
   },
   "notebookName": "Desafio",
   "widgets": {}
  }
 },
 "nbformat": 4,
 "nbformat_minor": 0
}
