{
 "cells": [
  {
   "cell_type": "code",
   "execution_count": 0,
   "metadata": {
    "application/vnd.databricks.v1+cell": {
     "cellMetadata": {
      "byteLimit": 2048000,
      "rowLimit": 10000
     },
     "inputWidgets": {},
     "nuid": "6482be4c-f067-47c9-b0ac-35c938b94601",
     "showTitle": true,
     "tableResultSettingsMap": {},
     "title": "Carregar o arquivo CSV com as opções"
    }
   },
   "outputs": [
    {
     "output_type": "stream",
     "name": "stdout",
     "output_type": "stream",
     "text": [
      "+---------------+----------+--------+---------------+\n|            _c0|       _c1|     _c2|            _c3|\n+---------------+----------+--------+---------------+\n| 161.103.53.215|2025-02-06|09:31:36|        bbc.com|\n| 215.213.219.84|2025-02-01|21:20:21|    twitter.com|\n|  117.152.133.2|2025-02-18|11:15:41|     github.com|\n|   1.127.233.58|2025-02-17|07:22:46|        cnn.com|\n|181.125.127.119|2025-02-16|21:54:12|     google.com|\n|   194.16.65.15|2025-02-08|15:33:01|  wikipedia.org|\n| 97.170.188.148|2025-02-09|09:25:16|  wikipedia.org|\n| 239.96.185.164|2025-01-29|00:43:01|     amazon.com|\n|  131.101.10.63|2025-02-17|15:15:49|     amazon.com|\n|    76.45.153.8|2025-02-04|05:09:29|       bing.com|\n| 166.242.38.189|2025-02-03|06:33:33|   linkedin.com|\n| 220.181.19.201|2025-02-17|21:34:44|     github.com|\n|   78.26.170.97|2025-01-31|21:07:52|   facebook.com|\n|  16.248.12.159|2025-01-31|08:52:13|        bbc.com|\n| 77.171.111.126|2025-02-06|03:59:06|        cnn.com|\n| 85.232.169.165|2025-01-25|09:30:10|        bbc.com|\n| 176.11.214.120|2025-02-10|01:47:03|    nytimes.com|\n|  122.44.253.24|2025-02-05|17:16:48|   linkedin.com|\n|  63.72.157.151|2025-01-27|03:19:44|  wikipedia.org|\n|  27.30.206.154|2025-01-25|15:08:56|google.com/maps|\n+---------------+----------+--------+---------------+\nonly showing top 20 rows\n\n"
     ]
    }
   ],
   "source": [
    "\n",
    "file_location = \"/FileStore/tables/access_logs.txt\"\n",
    "file_type = \"csv\" \n",
    "\n",
    "infer_schema = \"false\" \n",
    "first_row_is_header = \"false\"\n",
    "delimiter = \" \"  \n",
    "\n",
    "# definir em uma função\n",
    "df = spark.read.format(file_type) \\\n",
    "    .option(\"inferSchema\", infer_schema) \\\n",
    "    .option(\"header\", first_row_is_header) \\\n",
    "    .option(\"sep\", delimiter) \\\n",
    "    .load(file_location)\n",
    "\n",
    "df.show()\n"
   ]
  },
  {
   "cell_type": "code",
   "execution_count": 0,
   "metadata": {
    "application/vnd.databricks.v1+cell": {
     "cellMetadata": {
      "byteLimit": 2048000,
      "rowLimit": 10000
     },
     "inputWidgets": {},
     "nuid": "0f39f683-8699-49b2-8a3c-056ce9961316",
     "showTitle": true,
     "tableResultSettingsMap": {},
     "title": "Filtrar os acessos ao google.com"
    }
   },
   "outputs": [
    {
     "output_type": "stream",
     "name": "stdout",
     "output_type": "stream",
     "text": [
      "Quantidade de acessos a google.com: 601\n"
     ]
    }
   ],
   "source": [
    "google_access_count = df.filter(df[\"_c3\"] == \"google.com\").count()\n",
    "\n",
    "print(f\"Quantidade de acessos a google.com: {google_access_count}\")\n"
   ]
  },
  {
   "cell_type": "code",
   "execution_count": 0,
   "metadata": {
    "application/vnd.databricks.v1+cell": {
     "cellMetadata": {
      "byteLimit": 2048000,
      "rowLimit": 10000
     },
     "inputWidgets": {},
     "nuid": "fdc898d4-7c80-4c05-83f4-3c001582bb5c",
     "showTitle": true,
     "tableResultSettingsMap": {},
     "title": "Ordenar pela contagem de acessos as 5 páginas mais visitadas"
    }
   },
   "outputs": [
    {
     "output_type": "stream",
     "name": "stdout",
     "output_type": "stream",
     "text": [
      "+-----------------+-----+\n|              _c3|count|\n+-----------------+-----+\n|stackoverflow.com|  650|\n|  google.com/mail|  649|\n|          cnn.com|  645|\n|       amazon.com|  644|\n|     facebook.com|  640|\n+-----------------+-----+\n\n"
     ]
    }
   ],
   "source": [
    "page_counts = df.groupBy(\"_c3\").count()\n",
    "\n",
    "top_5_pages = page_counts.orderBy(\"count\", ascending=False).limit(5)\n",
    "\n",
    "top_5_pages.show()\n"
   ]
  },
  {
   "cell_type": "code",
   "execution_count": 0,
   "metadata": {
    "application/vnd.databricks.v1+cell": {
     "cellMetadata": {
      "byteLimit": 2048000,
      "rowLimit": 10000
     },
     "inputWidgets": {},
     "nuid": "70fbe018-7930-45de-b733-5f4a60695f45",
     "showTitle": true,
     "tableResultSettingsMap": {},
     "title": "Contar o número de acessos por data"
    }
   },
   "outputs": [
    {
     "output_type": "stream",
     "name": "stdout",
     "output_type": "stream",
     "text": [
      "+----------+-----+\n|_c1       |count|\n+----------+-----+\n|2025-01-19|16   |\n|2025-01-20|338  |\n|2025-01-21|382  |\n|2025-01-22|366  |\n|2025-01-23|325  |\n|2025-01-24|333  |\n|2025-01-25|344  |\n|2025-01-26|314  |\n|2025-01-27|355  |\n|2025-01-28|324  |\n|2025-01-29|333  |\n|2025-01-30|353  |\n|2025-01-31|344  |\n|2025-02-01|326  |\n|2025-02-02|344  |\n|2025-02-03|327  |\n|2025-02-04|349  |\n|2025-02-05|345  |\n|2025-02-06|322  |\n|2025-02-07|322  |\n|2025-02-08|336  |\n|2025-02-09|318  |\n|2025-02-10|347  |\n|2025-02-11|325  |\n|2025-02-12|330  |\n|2025-02-13|316  |\n|2025-02-14|327  |\n|2025-02-15|333  |\n|2025-02-16|316  |\n|2025-02-17|304  |\n|2025-02-18|286  |\n+----------+-----+\n\n"
     ]
    }
   ],
   "source": [
    "accesses_by_date = df.groupBy(\"_c1\").count()\n",
    "\n",
    "accesses_by_date.orderBy(\"_c1\").show(100, False)"
   ]
  },
  {
   "cell_type": "code",
   "execution_count": 0,
   "metadata": {
    "application/vnd.databricks.v1+cell": {
     "cellMetadata": {
      "byteLimit": 2048000,
      "rowLimit": 10000
     },
     "inputWidgets": {},
     "nuid": "7e048097-7cc4-49d2-b456-c16dbdf74f51",
     "showTitle": true,
     "tableResultSettingsMap": {},
     "title": "Contar os acessos por tipo de IP (interno ou externo)"
    }
   },
   "outputs": [
    {
     "output_type": "stream",
     "name": "stdout",
     "output_type": "stream",
     "text": [
      "+--------+-----+\n| ip_type|count|\n+--------+-----+\n|internal|   32|\n|external| 9968|\n+--------+-----+\n\n"
     ]
    }
   ],
   "source": [
    "from pyspark.sql.functions import when, col\n",
    "\n",
    "df_with_ip_type = df.withColumn(\n",
    "    \"ip_type\", \n",
    "    when(col(\"_c0\").like(\"10.%\"), \"internal\")  \n",
    "    .when(col(\"_c0\").like(\"192.168.%\"), \"internal\")  \n",
    "    .when(col(\"_c0\").like(\"172.16.%\"), \"internal\")  \n",
    "    .when(col(\"_c0\").like(\"172.17.%\"), \"internal\")  \n",
    "    .when(col(\"_c0\").like(\"172.18.%\"), \"internal\")  \n",
    "    .when(col(\"_c0\").like(\"172.19.%\"), \"internal\")  \n",
    "    .when(col(\"_c0\").like(\"172.20.%\"), \"internal\")  \n",
    "    .when(col(\"_c0\").like(\"172.21.%\"), \"internal\")  \n",
    "    .when(col(\"_c0\").like(\"172.22.%\"), \"internal\")  \n",
    "    .when(col(\"_c0\").like(\"172.23.%\"), \"internal\")  \n",
    "    .when(col(\"_c0\").like(\"172.24.%\"), \"internal\")  \n",
    "    .when(col(\"_c0\").like(\"172.25.%\"), \"internal\")  \n",
    "    .when(col(\"_c0\").like(\"172.26.%\"), \"internal\")  \n",
    "    .when(col(\"_c0\").like(\"172.27.%\"), \"internal\")  \n",
    "    .when(col(\"_c0\").like(\"172.28.%\"), \"internal\")  \n",
    "    .when(col(\"_c0\").like(\"172.29.%\"), \"internal\")  \n",
    "    .when(col(\"_c0\").like(\"172.30.%\"), \"internal\")  \n",
    "    .when(col(\"_c0\").like(\"172.31.%\"), \"internal\")  \n",
    "    .otherwise(\"external\") \n",
    ")\n",
    "\n",
    "accesses_by_ip_type = df_with_ip_type.groupBy(\"ip_type\").count()\n",
    "\n",
    "accesses_by_ip_type.show()"
   ]
  }
 ],
 "metadata": {
  "application/vnd.databricks.v1+notebook": {
   "computePreferences": null,
   "dashboards": [],
   "environmentMetadata": null,
   "language": "python",
   "notebookMetadata": {
    "mostRecentlyExecutedCommandWithImplicitDF": {
     "commandId": 1109805214992969,
     "dataframes": [
      "_sqldf"
     ]
    },
    "pythonIndentUnit": 4
   },
   "notebookName": "Desafio",
   "widgets": {}
  }
 },
 "nbformat": 4,
 "nbformat_minor": 0
}
